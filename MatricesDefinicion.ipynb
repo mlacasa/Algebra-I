{
  "nbformat": 4,
  "nbformat_minor": 0,
  "metadata": {
    "colab": {
      "provenance": [],
      "authorship_tag": "ABX9TyMlcJGnbTXAON17TK5lHh9n",
      "include_colab_link": true
    },
    "kernelspec": {
      "name": "python3",
      "display_name": "Python 3"
    },
    "language_info": {
      "name": "python"
    }
  },
  "cells": [
    {
      "cell_type": "markdown",
      "metadata": {
        "id": "view-in-github",
        "colab_type": "text"
      },
      "source": [
        "<a href=\"https://colab.research.google.com/github/mlacasa/Algebra-I/blob/main/MatricesDefinicion.ipynb\" target=\"_parent\"><img src=\"https://colab.research.google.com/assets/colab-badge.svg\" alt=\"Open In Colab\"/></a>"
      ]
    },
    {
      "cell_type": "markdown",
      "source": [
        "# Definición de Matriz\n",
        "\n",
        "Una **matriz** es una disposición rectangular de elementos organizada en **filas** y **columnas**. Formalmente, una matriz se denota como $ A = [a_{ij}] $, donde $ a_{ij} $ representa el elemento que se encuentra en la fila $ i $ y la columna $ j $ de la matriz. Los elementos de una matriz pueden ser números o elementos de un cuerpo $ K $.\n",
        "\n",
        "## Elementos de una Matriz\n",
        "\n",
        "Si una matriz tiene $ m $ filas y $ n $ columnas, se denota como una matriz de **dimensiones** $ m \\times n $ (m por n). Por ejemplo, una matriz de dimensiones $ 2 \\times 3 $ tendría 2 filas y 3 columnas:\n",
        "\n",
        "$$\n",
        "A = \\begin{pmatrix}\n",
        "a_{11} & a_{12} & a_{13} \\\\\n",
        "a_{21} & a_{22} & a_{23}\n",
        "\\end{pmatrix}\n",
        "$$\n",
        "\n",
        "## Orden de una Matriz\n",
        "\n",
        "El **orden** de una matriz se refiere a su tamaño y se expresa en términos de las dimensiones $ m \\times n $:\n",
        "- $ m $ = número de filas\n",
        "- $ n $ = número de columnas\n",
        "\n",
        "Por ejemplo, si una matriz tiene 3 filas y 4 columnas, su orden es $ 3 \\times 4 $.\n",
        "\n",
        "## Suma de Matrices\n",
        "\n",
        "La **suma** de matrices se define solo cuando las matrices tienen las mismas dimensiones. Si $ A $ y $ B $ son matrices de orden $ m \\times n $, entonces su suma $ C = A + B $ se define como:\n",
        "\n",
        "$$\n",
        "C = [c_{ij}] = [a_{ij} + b_{ij}]\n",
        "$$\n",
        "\n",
        "donde $ c_{ij} $ es el elemento de la matriz resultante que corresponde a la suma de los elementos $ a_{ij} $ y $ b_{ij} $ de las matrices originales.\n",
        "\n",
        "### Propiedades de la Suma de Matrices\n",
        "\n",
        "1. **Conmutativa**: $ A + B = B + A $\n",
        "2. **Asociativa**: $ A + (B + C) = (A + B) + C $\n",
        "3. **Elemento Neutro**: Existe una matriz cero $ O $ tal que $ A + O = A $ para cualquier matriz $ A $.\n",
        "4. **Inverso Aditivo**: Para cada matriz $ A $, existe una matriz $ -A $ tal que $ A + (-A) = O $."
      ],
      "metadata": {
        "id": "OGoEYvkhQc_A"
      }
    },
    {
      "cell_type": "code",
      "execution_count": 10,
      "metadata": {
        "colab": {
          "base_uri": "https://localhost:8080/"
        },
        "id": "JOSwO7bWQT6m",
        "outputId": "9824e55e-df48-4890-96d1-2653abf959fe"
      },
      "outputs": [
        {
          "output_type": "stream",
          "name": "stdout",
          "text": [
            "Ambas matrices son del mismo orden y se pueden sumar de orden. (2, 3)\n"
          ]
        }
      ],
      "source": [
        "import numpy as np\n",
        "import sympy as sp\n",
        "\n",
        "# Define a symbolic matrix A\n",
        "A = sp.Matrix([[1, 2, 3],\n",
        "                [4, 5, 6]])\n",
        "\n",
        "# Define a symbolic matrix B\n",
        "B = sp.Matrix([[7, 8, 9],\n",
        "                [10, 11, 12]])\n",
        "\n",
        "# Asegurarse de que las matrices tienen el mismo orden antes de sumarlas\n",
        "if A.shape == B.shape:\n",
        "    print(\"Ambas matrices son del mismo orden y se pueden sumar de orden.\", A.shape)\n",
        "else:\n",
        "    print(\"Las matrices deben ser del mismo orden para poder sumarlas.\")"
      ]
    },
    {
      "cell_type": "code",
      "source": [
        "# Suma de matrices\n",
        "C = A + B\n",
        "print(\"\\nMatriz A:\")\n",
        "sp.pretty_print(A)\n",
        "\n",
        "print(\"\\nMatriz B:\")\n",
        "sp.pretty_print(B)\n",
        "\n",
        "print(\"\\nSuma de A y B (C = A + B):\")\n",
        "sp.pretty_print(C)\n"
      ],
      "metadata": {
        "colab": {
          "base_uri": "https://localhost:8080/"
        },
        "id": "HZx2u5J8Re-U",
        "outputId": "30a20d4a-9cb9-457d-a461-3320abc75184"
      },
      "execution_count": 8,
      "outputs": [
        {
          "output_type": "stream",
          "name": "stdout",
          "text": [
            "\n",
            "Matriz A:\n",
            "⎡1  2  3⎤\n",
            "⎢       ⎥\n",
            "⎣4  5  6⎦\n",
            "\n",
            "Matriz B:\n",
            "⎡7   8   9 ⎤\n",
            "⎢          ⎥\n",
            "⎣10  11  12⎦\n",
            "\n",
            "Suma de A y B (C = A + B):\n",
            "⎡8   10  12⎤\n",
            "⎢          ⎥\n",
            "⎣14  16  18⎦\n"
          ]
        }
      ]
    },
    {
      "cell_type": "code",
      "source": [
        "# Demostración de propiedades de la suma de matrices\n",
        "\n",
        "# 1. Comprobación de la propiedad Conmutativa\n",
        "C_commutative = A + B\n",
        "C_commutative_reversed = B + A\n",
        "print(\"\\nVerificando propiedad Conmutativa (A + B == B + A):\")\n",
        "print(\"C (A + B):\")\n",
        "sp.pretty_print(C_commutative)\n",
        "print(\"C' (B + A):\")\n",
        "sp.pretty_print(C_commutative_reversed)\n",
        "print(\"Son iguales:\", C_commutative == C_commutative_reversed)"
      ],
      "metadata": {
        "colab": {
          "base_uri": "https://localhost:8080/"
        },
        "id": "gISSvbFZRkYe",
        "outputId": "14936697-6d7b-453c-d065-0b2ab5b44522"
      },
      "execution_count": 11,
      "outputs": [
        {
          "output_type": "stream",
          "name": "stdout",
          "text": [
            "\n",
            "Verificando propiedad Conmutativa (A + B == B + A):\n",
            "C (A + B):\n",
            "⎡8   10  12⎤\n",
            "⎢          ⎥\n",
            "⎣14  16  18⎦\n",
            "C' (B + A):\n",
            "⎡8   10  12⎤\n",
            "⎢          ⎥\n",
            "⎣14  16  18⎦\n",
            "Son iguales: True\n"
          ]
        }
      ]
    },
    {
      "cell_type": "code",
      "source": [
        "# 2. Comprobación de la propiedad Asociativa\n",
        "C1 = A + (B + A)\n",
        "C2 = (A + B) + A\n",
        "print(\"\\nVerificando propiedad Asociativa (A + (B + A) == (A + B) + A):\")\n",
        "print(\"C1 (A + (B + A)):\")\n",
        "sp.pretty_print(C1)\n",
        "print(\"C2 ((A + B) + A):\")\n",
        "sp.pretty_print(C2)\n",
        "print(\"Son iguales:\", C1 == C2)"
      ],
      "metadata": {
        "colab": {
          "base_uri": "https://localhost:8080/"
        },
        "id": "lvzLzj_QSZR2",
        "outputId": "22ce5825-1e40-4ff2-afee-62ec2a4ed1a5"
      },
      "execution_count": 12,
      "outputs": [
        {
          "output_type": "stream",
          "name": "stdout",
          "text": [
            "\n",
            "Verificando propiedad Asociativa (A + (B + A) == (A + B) + A):\n",
            "C1 (A + (B + A)):\n",
            "⎡9   12  15⎤\n",
            "⎢          ⎥\n",
            "⎣18  21  24⎦\n",
            "C2 ((A + B) + A):\n",
            "⎡9   12  15⎤\n",
            "⎢          ⎥\n",
            "⎣18  21  24⎦\n",
            "Son iguales: True\n"
          ]
        }
      ]
    },
    {
      "cell_type": "code",
      "source": [
        "# 3. Comprobación del Elemento Neutro\n",
        "O = sp.Matrix.zeros(2, 3)  # Matriz cero del mismo orden que A\n",
        "neutro = A + O\n",
        "print(\"\\nElemento Neutro (A + O):\")\n",
        "sp.pretty_print(O)\n",
        "print(\"Resultado de A + O (Elemento neutro):\")\n",
        "sp.pretty_print(neutro)"
      ],
      "metadata": {
        "colab": {
          "base_uri": "https://localhost:8080/"
        },
        "id": "E6IhN-MVSdeR",
        "outputId": "81b09536-6e9a-4ea2-a968-fab1864f0986"
      },
      "execution_count": 13,
      "outputs": [
        {
          "output_type": "stream",
          "name": "stdout",
          "text": [
            "\n",
            "Elemento Neutro (A + O):\n",
            "⎡0  0  0⎤\n",
            "⎢       ⎥\n",
            "⎣0  0  0⎦\n",
            "Resultado de A + O (Elemento neutro):\n",
            "⎡1  2  3⎤\n",
            "⎢       ⎥\n",
            "⎣4  5  6⎦\n"
          ]
        }
      ]
    },
    {
      "cell_type": "code",
      "source": [
        "# 4. Comprobación del Inverso Aditivo\n",
        "minus_A = -A  # Matriz que es el inverso aditivo de A\n",
        "inverse = A + minus_A\n",
        "print(\"\\nInverso Aditivo (A + (-A)):\")\n",
        "sp.pretty_print(minus_A)\n",
        "print(\"Resultado de A + (-A) (Inverso aditivo):\")\n",
        "sp.pretty_print(inverse)"
      ],
      "metadata": {
        "colab": {
          "base_uri": "https://localhost:8080/"
        },
        "id": "A2W5hFTWSgqV",
        "outputId": "6e3ec83e-afe2-411d-f810-58b19402e32b"
      },
      "execution_count": 14,
      "outputs": [
        {
          "output_type": "stream",
          "name": "stdout",
          "text": [
            "\n",
            "Inverso Aditivo (A + (-A)):\n",
            "⎡-1  -2  -3⎤\n",
            "⎢          ⎥\n",
            "⎣-4  -5  -6⎦\n",
            "Resultado de A + (-A) (Inverso aditivo):\n",
            "⎡0  0  0⎤\n",
            "⎢       ⎥\n",
            "⎣0  0  0⎦\n"
          ]
        }
      ]
    },
    {
      "cell_type": "markdown",
      "source": [
        "# Singularidades de las Matrices\n",
        "\n",
        "## Matriz Unidad\n",
        "\n",
        "La **matriz unidad** es una matriz cuadrada especial que tiene unos en la diagonal principal y ceros en todas las demás posiciones. Se denota como $I_n$, donde $n$ es el tamaño de la matriz. Por ejemplo, la matriz unidad $I_3$ es:\n",
        "\n",
        "$$\n",
        "I_3 =\n",
        "\\begin{pmatrix}\n",
        "1 & 0 & 0 \\\\\n",
        "0 & 1 & 0 \\\\\n",
        "0 & 0 & 1\n",
        "\\end{pmatrix}\n",
        "$$\n",
        "\n",
        "## Matriz Simétrica\n",
        "\n",
        "Una **matriz simétrica** es aquella que es igual a su transpuesta. Es decir, una matriz $A$ es simétrica si $A = A^T$. Esto significa que los elementos en posiciones simétricas respecto a la diagonal principal son iguales. Por ejemplo:\n",
        "\n",
        "$$\n",
        "A =\n",
        "\\begin{pmatrix}\n",
        "1 & 2 & 3 \\\\\n",
        "2 & 4 & 5 \\\\\n",
        "3 & 5 & 6\n",
        "\\end{pmatrix}\n",
        "$$\n",
        "\n",
        "## Matriz Antisimétrica\n",
        "\n",
        "Una **matriz antisimétrica** (o skew-simétrica) es aquella que es igual al negativo de su transpuesta. Es decir, $A = -A^T$. Esto implica que todos los elementos en la diagonal principal son cero. Por ejemplo:\n",
        "\n",
        "$$\n",
        "A =\n",
        "\\begin{pmatrix}\n",
        "0 & 2 & -1 \\\\\n",
        "-2 & 0 & 3 \\\\\n",
        "1 & -3 & 0\n",
        "\\end{pmatrix}\n",
        "$$\n",
        "\n",
        "## Matriz Triangular Superior\n",
        "\n",
        "Una **matriz triangular superior** es una matriz cuadrada donde todos los elementos por debajo de la diagonal principal son cero. Por ejemplo:\n",
        "\n",
        "$$\n",
        "A =\n",
        "\\begin{pmatrix}\n",
        "1 & 2 & 3 \\\\\n",
        "0 & 4 & 5 \\\\\n",
        "0 & 0 & 6\n",
        "\\end{pmatrix}\n",
        "$$\n",
        "\n",
        "## Matriz Triangular Inferior\n",
        "\n",
        "Una **matriz triangular inferior** es una matriz cuadrada donde todos los elementos por encima de la diagonal principal son cero. Por ejemplo:\n",
        "\n",
        "$$\n",
        "A =\n",
        "\\begin{pmatrix}\n",
        "1 & 0 & 0 \\\\\n",
        "4 & 5 & 0 \\\\\n",
        "7 & 8 & 9\n",
        "\\end{pmatrix}\n",
        "$$\n",
        "\n",
        "## Matriz Cuadrada\n",
        "\n",
        "Una **matriz cuadrada** es una matriz que tiene el mismo número de filas y columnas, es decir, de dimensiones $n \\times n$. La matriz cuadrada es fundamental en álgebra lineal y puede ser de diferentes tipos (por ejemplo, simétrica, triangular, etc.).\n",
        "\n",
        "## Matriz Rectangular\n",
        "\n",
        "Una **matriz rectangular** es aquella que no es cuadrada, es decir, tiene un número diferente de filas y columnas, como $m \\times n$ donde $m \\neq n$. Por ejemplo:\n",
        "\n",
        "$$\n",
        "A =\n",
        "\\begin{pmatrix}\n",
        "1 & 2 & 3 \\\\\n",
        "4 & 5 & 6\n",
        "\\end{pmatrix}\n",
        "$$\n",
        "\n",
        "## Matriz Nula\n",
        "\n",
        "La **matriz nula** es una matriz en la que todos sus elementos son ceros. Se denota comúnmente por $O$. Por ejemplo, una matriz nula de dimensiones $2 \\times 3$ es:\n",
        "\n",
        "$$\n",
        "O =\n",
        "\\begin{pmatrix}\n",
        "0 & 0 & 0 \\\\\n",
        "0 & 0 & 0\n",
        "\\end{pmatrix}\n",
        "$$\n",
        "\n",
        "## Matriz Diagonal\n",
        "\n",
        "Una **matriz diagonal** es una matriz cuadrada en la que todos los elementos fuera de la diagonal principal son cero. Por ejemplo:\n",
        "\n",
        "$$\n",
        "D =\n",
        "\\begin{pmatrix}\n",
        "5 & 0 & 0 \\\\\n",
        "0 & 3 & 0 \\\\\n",
        "0 & 0 & 1\n",
        "\\end{pmatrix}\n",
        "$$\n",
        "\n",
        "\n",
        "# Transposición de una Matriz\n",
        "\n",
        "La **transposición de una matriz** es una operación que consiste en convertir una matriz $A$ en otra matriz $A^T$ (llamada matriz transpuesta) mediante el intercambio de sus filas y columnas.\n",
        "\n",
        "## Definición\n",
        "\n",
        "Si una matriz $A$ tiene dimensiones $m \\times n$ (m filas y n columnas), su matriz transpuesta $A^T$ tendrá dimensiones $n \\times m$ (n filas y m columnas). Esto significa que el elemento en la posición $(i, j)$ de la matriz original $A$, que se denota como $a_{ij}$, se convierte en el elemento en la posición $(j, i)$ de la matriz transpuesta $A^T$.\n",
        "\n",
        "## Fórmula\n",
        "\n",
        "La transposición de una matriz se puede expresar como:\n",
        "\n",
        "$$\n",
        "A^T_{ij} = A_{ji}\n",
        "$$\n",
        "\n",
        "donde $A_{ij}$ es el elemento de la matriz original en la fila $i$ y la columna $j$.\n",
        "\n",
        "## Ejemplo\n",
        "\n",
        "Sea la matriz $A$:\n",
        "\n",
        "$$\n",
        "A =\n",
        "\\begin{pmatrix}\n",
        "1 & 2 & 3 \\\\\n",
        "4 & 5 & 6\n",
        "\\end{pmatrix}\n",
        "$$\n",
        "\n",
        "La matriz transpuesta $A^T$ será:\n",
        "\n",
        "$$\n",
        "A^T =\n",
        "\\begin{pmatrix}\n",
        "1 & 4 \\\\\n",
        "2 & 5 \\\\\n",
        "3 & 6\n",
        "\\end{pmatrix}\n",
        "$$\n",
        "\n",
        "## Propiedades de la Transposición\n",
        "\n",
        "1. **Transposición de la Transposición**:\n",
        "   $$(A^T)^T = A$$\n",
        "   \n",
        "   Transponer una matriz dos veces devuelve la matriz original.\n",
        "\n",
        "2. **Suma de Matrices**:\n",
        "   $$(A + B)^T = A^T + B^T$$\n",
        "   \n",
        "   La transposición de la suma de dos matrices es igual a la suma de sus transpuestas.\n",
        "\n",
        "3. **Producto de Matrices**:\n",
        "   $$(AB)^T = B^T A^T$$\n",
        "   \n",
        "   La transposición del producto de dos matrices es igual al producto de las matrices transpuestas en orden inverso.\n",
        "\n",
        "4. **Matriz Simétrica**:\n",
        "   Una matriz $A$ es simétrica si cumple $A = A^T$.\n",
        "\n",
        "La transposición es una operación fundamental en álgebra lineal y tiene aplicaciones en diversas áreas de matemáticas y ciencia.\n",
        "\n",
        "\n",
        "# Producto de Matrices\n",
        "\n",
        "El **producto de matrices** es una operación algebraica que toma dos matrices y produce una tercera matriz. Este producto tiene particularidades y condiciones que es importante conocer.\n",
        "\n",
        "## Definición\n",
        "\n",
        "Dadas dos matrices $A$ de dimensiones $m \\times n$ y $B$ de dimensiones $n \\times p$, el **producto** $C = AB$ es una nueva matriz $C$ de dimensiones $m \\times p$. El elemento en la posición $(i, j)$ de la matriz resultante $C$ se calcula como sigue:\n",
        "\n",
        "$$\n",
        "C_{ij} = \\sum_{k=1}^{n} A_{ik} B_{kj}\n",
        "$$\n",
        "\n",
        "Esto significa que para cada elemento $C_{ij}$, se toma la suma de los productos de los elementos de la fila $i$ de la matriz $A$ y de la columna $j$ de la matriz $B$.\n",
        "\n",
        "## Condiciones para el Producto\n",
        "\n",
        "1. **Compatibilidad de Dimensiones**:\n",
        "   El número de columnas de la primera matriz ($A$) debe ser igual al número de filas de la segunda matriz ($B$). Es decir, si $A$ tiene dimensiones $m \\times n$ y $B$ tiene dimensiones $n \\times p$, entonces la multiplicación está definida.\n",
        "\n",
        "## Ejemplo\n",
        "\n",
        "Supongamos que $A$ es una matriz de dimensiones $2 \\times 3$ y $B$ es una matriz de dimensiones $3 \\times 2$:\n",
        "\n",
        "$$\n",
        "A =\n",
        "\\begin{pmatrix}\n",
        "1 & 2 & 3 \\\\\n",
        "4 & 5 & 6\n",
        "\\end{pmatrix}, \\quad\n",
        "B =\n",
        "\\begin{pmatrix}\n",
        "7 & 8 \\\\\n",
        "9 & 10 \\\\\n",
        "11 & 12\n",
        "\\end{pmatrix}\n",
        "$$\n",
        "\n",
        "El producto $C = AB$ resulta en:\n",
        "\n",
        "$$\n",
        "C =\n",
        "\\begin{pmatrix}\n",
        "(1 \\cdot 7 + 2 \\cdot 9 + 3 \\cdot 11) & (1 \\cdot 8 + 2 \\cdot 10 + 3 \\cdot 12) \\\\\n",
        "(4 \\cdot 7 + 5 \\cdot 9 + 6 \\cdot 11) & (4 \\cdot 8 + 5 \\cdot 10 + 6 \\cdot 12)\n",
        "\\end{pmatrix}\n",
        "$$\n",
        "\n",
        "Calculando cada entrada de $C$:\n",
        "\n",
        "- $C_{11} = 1 \\cdot 7 + 2 \\cdot 9 + 3 \\cdot 11 = 7 + 18 + 33 = 58$\n",
        "- $C_{12} = 1 \\cdot 8 + 2 \\cdot 10 + 3 \\cdot 12 = 8 + 20 + 36 = 64$\n",
        "- $C_{21} = 4 \\cdot 7 + 5 \\cdot 9 + 6 \\cdot 11 = 28 + 45 + 66 = 139$\n",
        "- $C_{22} = 4 \\cdot 8 + 5 \\cdot 10 + 6 \\cdot 12 = 32 + 50 + 72 = 154$\n",
        "\n",
        "Por lo tanto, la matriz resultante $C$ es:\n",
        "\n",
        "$$\n",
        "C =\n",
        "\\begin{pmatrix}\n",
        "58 & 64 \\\\\n",
        "139 & 154\n",
        "\\end{pmatrix}\n",
        "$$\n",
        "\n",
        "## Propiedades del Producto de Matrices\n",
        "\n",
        "1. **No Conmutativa**:\n",
        "   En general, el producto de matrices no es conmutativo, es decir, $AB \\neq BA$.\n",
        "\n",
        "2. **Asociativa**:\n",
        "   El producto de matrices es asociativo. Si $A$, $B$ y $C$ son matrices adecuadamente dimensionadas, entonces:\n",
        "   $$(AB)C = A(BC)$$\n",
        "\n",
        "3. **Distributiva**:\n",
        "   El producto de matrices es distributivo respecto a la suma:\n",
        "   $$A(B + C) = AB + AC$$\n",
        "   $$(A + B)C = AC + BC$$\n",
        "\n",
        "4. **Elemento Neutro**:\n",
        "   Existe una matriz identidad $I$ tal que para cualquier matriz $A$ de dimensiones adecuadas:\n",
        "   $$AI = A \\quad \\text{y} \\quad IA = A$$\n",
        "   La matriz identidad es la matriz que tiene $1$s en la diagonal principal y $0$s en las demás posiciones."
      ],
      "metadata": {
        "id": "bZU7obPiS6Bk"
      }
    },
    {
      "cell_type": "code",
      "source": [
        "# Definimos dos matrices A y B\n",
        "A = sp.Matrix([[1, 2, 3], [4, 5, 6]])\n",
        "B = sp.Matrix([[7, 8], [9, 10], [11, 12]])\n",
        "print(\"Matriz A\")\n",
        "sp.pretty_print(A)\n",
        "print(\"orden de la Matriz A:\", A.shape)\n",
        "print(\"Matriz B\")\n",
        "sp.pretty_print(B)\n",
        "print(\"orden de la Matriz B:\", B.shape)\n",
        "\n",
        "# Producto de A y B\n",
        "C = A * B\n",
        "print(\"Producto C = A * B:\")\n",
        "sp.pretty_print(C)\n",
        "print(\"Orden de la Matriz C:\", C.shape)"
      ],
      "metadata": {
        "colab": {
          "base_uri": "https://localhost:8080/"
        },
        "id": "Vbfawi5RT4Aw",
        "outputId": "77ee90b5-370f-408a-bd54-a73879a1c713"
      },
      "execution_count": 19,
      "outputs": [
        {
          "output_type": "stream",
          "name": "stdout",
          "text": [
            "Matriz A\n",
            "⎡1  2  3⎤\n",
            "⎢       ⎥\n",
            "⎣4  5  6⎦\n",
            "orden de la Matriz A: (2, 3)\n",
            "Matriz B\n",
            "⎡7   8 ⎤\n",
            "⎢      ⎥\n",
            "⎢9   10⎥\n",
            "⎢      ⎥\n",
            "⎣11  12⎦\n",
            "orden de la Matriz B: (3, 2)\n",
            "Producto C = A * B:\n",
            "⎡58   64 ⎤\n",
            "⎢        ⎥\n",
            "⎣139  154⎦\n",
            "Orden de la Matriz C: (2, 2)\n"
          ]
        }
      ]
    },
    {
      "cell_type": "code",
      "source": [
        "# Propiedad conmutativa?\n",
        "\n",
        "sp.pretty_print(B * A)"
      ],
      "metadata": {
        "colab": {
          "base_uri": "https://localhost:8080/"
        },
        "id": "NX9ahhvRUEDF",
        "outputId": "c509ca52-7585-47a9-8b74-3d3e05acdb72"
      },
      "execution_count": 20,
      "outputs": [
        {
          "output_type": "stream",
          "name": "stdout",
          "text": [
            "⎡39  54  69 ⎤\n",
            "⎢           ⎥\n",
            "⎢49  68  87 ⎥\n",
            "⎢           ⎥\n",
            "⎣59  82  105⎦\n"
          ]
        }
      ]
    },
    {
      "cell_type": "code",
      "source": [
        "sp.pretty_print(A * B)"
      ],
      "metadata": {
        "colab": {
          "base_uri": "https://localhost:8080/"
        },
        "id": "unxQLE9PUoet",
        "outputId": "268dee04-2290-4964-bb27-9a5955dc1df0"
      },
      "execution_count": 21,
      "outputs": [
        {
          "output_type": "stream",
          "name": "stdout",
          "text": [
            "⎡58   64 ⎤\n",
            "⎢        ⎥\n",
            "⎣139  154⎦\n"
          ]
        }
      ]
    },
    {
      "cell_type": "markdown",
      "source": [
        "# Importancia del Orden en el Producto de Matrices\n",
        "\n",
        "El **orden de las matrices** es un aspecto fundamental al realizar operaciones con matrices, especialmente en el producto de matrices. El orden se refiere a las dimensiones de las matrices, que se expresan en términos de filas y columnas, notadas como $m \\times n$ (donde $m$ es el número de filas y $n$ es el número de columnas).\n",
        "\n",
        "## 1. Compatibilidad de Dimensiones\n",
        "\n",
        "Para que el producto de dos matrices $A$ y $B$ esté definido, es crucial que el número de columnas de la primera matriz $A$ sea igual al número de filas de la segunda matriz $B$.\n",
        "\n",
        "- Si $A$ tiene dimensiones $m \\times n$ y $B$ tiene dimensiones $n \\times p$, el producto $C = A \\cdot B$ resultará en una matriz $C$ de dimensiones $m \\times p$.\n",
        "\n",
        "Si las dimensiones no coinciden según esta regla, el producto no puede ser realizado y se producirá un error. Por ejemplo:\n",
        "\n",
        "- Si $A$ es de tamaño $2 \\times 3$ (2 filas y 3 columnas) y $B$ es de tamaño $3 \\times 2$, entonces $C = A \\cdot B$ es válido y $C$ tendrá tamaño $2 \\times 2$.\n",
        "- Sin embargo, si se intenta realizar $D = B \\cdot A$ donde $B$ es $3 \\times 2$ y $A$ es $2 \\times 3$, el producto está definido y $D$ tendrá tamaño $3 \\times 3$.\n",
        "\n",
        "## 2. Efecto en el Resultado\n",
        "\n",
        "El orden en el que se multiplican las matrices afecta el resultado:\n",
        "\n",
        "- **No Conmutativa**: Como se ha demostrado anteriormente, $C = A \\cdot B$ no es igual a $D = B \\cdot A$ en general. Esto significa que el producto de matrices depende del orden en que se realizan las multiplicaciones.\n",
        "- **Diferentes Resultados**: Aunque ambas operaciones pueden estar definidas (es decir, las dimensiones sean compatibles), el resultado será diferente debido a cómo se efectúan las multiplicaciones y sumas involucradas en cada caso.\n",
        "\n",
        "## 3. Ejemplo Ilustrativo\n",
        "\n",
        "Siguiendo el ejemplo anterior, considere las matrices:\n",
        "\n",
        "$$\n",
        "A =\n",
        "\\begin{pmatrix}\n",
        "1 & 2 & 3 \\\\\n",
        "4 & 5 & 6\n",
        "\\end{pmatrix} \\quad \\text{(dimensiones $2 \\times 3$)}\n",
        "$$\n",
        "\n",
        "$$\n",
        "B =\n",
        "\\begin{pmatrix}\n",
        "7 & 8 \\\\\n",
        "9 & 10 \\\\\n",
        "11 & 12\n",
        "\\end{pmatrix} \\quad \\text{(dimensiones $3 \\times 2$)}\n",
        "$$\n",
        "\n",
        "Cuando calculamos:\n",
        "\n",
        "$$\n",
        "C = A \\cdot B \\quad \\text{(dimensiones $2 \\times 2$)}\n",
        "$$\n",
        "\n",
        "Por otro lado, el producto:\n",
        "\n",
        "$$\n",
        "D = B \\cdot A \\quad \\text{(dimensiones $3 \\times 3$)}\n",
        "$$\n",
        "\n",
        "Los resultados, aunque ambas multiplicaciones sean válidas, producen matrices de diferentes dimensiones y con diferentes valores.\n",
        "\n",
        "## Conclusión\n",
        "\n",
        "La **importancia del orden** de las matrices en las operaciones de producto no puede subestimarse. Asegura no solo que la operación esté definida, sino que también garantiza que los resultados sean correctos y relevantes en el contexto del problema que se está resolviendo. Siempre es esencial verificar las dimensiones antes de proceder con la multiplicación de matrices."
      ],
      "metadata": {
        "id": "mFYIu8wPVAML"
      }
    },
    {
      "cell_type": "code",
      "source": [
        "# Propiedad Asociativa\n",
        "# Definimos una tercera matriz para la demostración\n",
        "E = sp.Matrix([[1, 0],[1, 1]])\n",
        "\n",
        "# (A * B) * E\n",
        "F1 = C * E\n",
        "print(\"\\nProducto F1 = (A * B) * E:\")\n",
        "sp.pretty_print(F1)\n",
        "\n",
        "# A * (B * E)\n",
        "F2 = A * (B * E)\n",
        "print(\"\\nProducto F2 = A * (B * E):\")\n",
        "sp.pretty_print(F2)\n",
        "\n",
        "# Verificamos que F1 y F2 son iguales\n",
        "print(\"F1 == F2:\", F1.equals(F2))"
      ],
      "metadata": {
        "colab": {
          "base_uri": "https://localhost:8080/"
        },
        "id": "p4sygSYpUsP9",
        "outputId": "4f4e7f30-c543-435e-91e1-9cdf38d2b901"
      },
      "execution_count": 23,
      "outputs": [
        {
          "output_type": "stream",
          "name": "stdout",
          "text": [
            "\n",
            "Producto F1 = (A * B) * E:\n",
            "⎡122  64 ⎤\n",
            "⎢        ⎥\n",
            "⎣293  154⎦\n",
            "\n",
            "Producto F2 = A * (B * E):\n",
            "⎡122  64 ⎤\n",
            "⎢        ⎥\n",
            "⎣293  154⎦\n",
            "F1 == F2: True\n"
          ]
        }
      ]
    },
    {
      "cell_type": "code",
      "source": [
        "# Propiedad Distributiva\n",
        "# Definimos dos matrices S y T\n",
        "S = sp.Matrix([[1, 1], [1, 1], [1, 1]])\n",
        "T = sp.Matrix([[2, 2], [2, 2], [2, 2]])\n",
        "\n",
        "# A * (S + T)\n",
        "G1 = A * (S + T)\n",
        "print(\"\\nProducto G1 = A * (S + T):\")\n",
        "sp.pretty_print(G1)\n",
        "\n",
        "# A * S + A * T\n",
        "G2 = A * S + A * T\n",
        "print(\"\\nProducto G2 = A * S + A * T:\")\n",
        "sp.pretty_print(G2)\n",
        "\n",
        "# Verificamos que G1 y G2 son iguales\n",
        "print(\"G1 == G2:\", G1.equals(G2))"
      ],
      "metadata": {
        "colab": {
          "base_uri": "https://localhost:8080/"
        },
        "id": "oKkUlx8nWEm7",
        "outputId": "b93a1fe4-16df-44cd-90eb-f354a16be21b"
      },
      "execution_count": 24,
      "outputs": [
        {
          "output_type": "stream",
          "name": "stdout",
          "text": [
            "\n",
            "Producto G1 = A * (S + T):\n",
            "⎡18  18⎤\n",
            "⎢      ⎥\n",
            "⎣45  45⎦\n",
            "\n",
            "Producto G2 = A * S + A * T:\n",
            "⎡18  18⎤\n",
            "⎢      ⎥\n",
            "⎣45  45⎦\n",
            "G1 == G2: True\n"
          ]
        }
      ]
    },
    {
      "cell_type": "markdown",
      "source": [
        "# Propiedad Distributiva en Matrices\n",
        "\n",
        "La **propiedad distributiva** es una de las propiedades fundamentales en álgebra que se aplica no solo a los números reales, sino también a las matrices. Esta propiedad establece cómo se comporta el producto de matrices con respecto a la suma de matrices.\n",
        "\n",
        "## Definición de la Propiedad Distributiva\n",
        "\n",
        "La propiedad distributiva establece que para cualquier matriz $A$, $B$ y $C$, las siguientes igualdades son válidas:\n",
        "\n",
        "1. $$ A \\cdot (B + C) = A \\cdot B + A \\cdot C $$\n",
        "2. $$ (A + B) \\cdot C = A \\cdot C + B \\cdot C $$\n",
        "\n",
        "Esto significa que al multiplicar una matriz por la suma de otras matrices, se puede distribuir la multiplicación a cada uno de los sumandos.\n",
        "\n",
        "## Ejemplo\n",
        "\n",
        "Supongamos que tenemos las siguientes matrices $A$, $B$ y $C$:\n",
        "\n",
        "$$\n",
        "A =\n",
        "\\begin{pmatrix}\n",
        "1 & 2 \\\\\n",
        "3 & 4\n",
        "\\end{pmatrix}, \\quad\n",
        "B =\n",
        "\\begin{pmatrix}\n",
        "5 & 6 \\\\\n",
        "7 & 8\n",
        "\\end{pmatrix}, \\quad\n",
        "C =\n",
        "\\begin{pmatrix}\n",
        "9 & 10 \\\\\n",
        "11 & 12\n",
        "\\end{pmatrix}\n",
        "$$\n",
        "\n",
        "### Aplicando la Propiedad Distributiva\n",
        "\n",
        "**1.** Aplicamos la propiedad distributiva en la forma $A \\cdot (B + C)$:\n",
        "\n",
        "Primero, calculamos $B + C$:\n",
        "\n",
        "$$\n",
        "B + C =\n",
        "\\begin{pmatrix}\n",
        "5 + 9 & 6 + 10 \\\\\n",
        "7 + 11 & 8 + 12\n",
        "\\end{pmatrix} =\n",
        "\\begin{pmatrix}\n",
        "14 & 16 \\\\\n",
        "18 & 20\n",
        "\\end{pmatrix}\n",
        "$$\n",
        "\n",
        "Luego, calculamos $A \\cdot (B + C)$:\n",
        "\n",
        "$$\n",
        "A \\cdot (B + C) =\n",
        "\\begin{pmatrix}\n",
        "1 & 2 \\\\\n",
        "3 & 4\n",
        "\\end{pmatrix} \\cdot\n",
        "\\begin{pmatrix}\n",
        "14 & 16 \\\\\n",
        "18 & 20\n",
        "\\end{pmatrix} =\n",
        "\\begin{pmatrix}\n",
        "1 \\cdot 14 + 2 \\cdot 18 & 1 \\cdot 16 + 2 \\cdot 20 \\\\\n",
        "3 \\cdot 14 + 4 \\cdot 18 & 3 \\cdot 16 + 4 \\cdot 20\n",
        "\\end{pmatrix} =\n",
        "\\begin{pmatrix}\n",
        "50 & 56 \\\\\n",
        "82 & 92\n",
        "\\end{pmatrix}\n",
        "$$\n",
        "\n",
        "**2.** Ahora, aplicamos la propiedad en la forma $A \\cdot B + A \\cdot C$:\n",
        "\n",
        "Primero, calculemos $A \\cdot B$:\n",
        "\n",
        "$$\n",
        "A \\cdot B =\n",
        "\\begin{pmatrix}\n",
        "1 & 2 \\\\\n",
        "3 & 4\n",
        "\\end{pmatrix} \\cdot\n",
        "\\begin{pmatrix}\n",
        "5 & 6 \\\\\n",
        "7 & 8\n",
        "\\end{pmatrix} =\n",
        "\\begin{pmatrix}\n",
        "1 \\cdot 5 + 2 \\cdot 7 & 1 \\cdot 6 + 2 \\cdot 8 \\\\\n",
        "3 \\cdot 5 + 4 \\cdot 7 & 3 \\cdot 6 + 4 \\cdot 8\n",
        "\\end{pmatrix} =\n",
        "\\begin{pmatrix}\n",
        "19 & 22 \\\\\n",
        "43 & 50\n",
        "\\end{pmatrix}\n",
        "$$\n",
        "\n",
        "Luego, calculemos $A \\cdot C$:\n",
        "\n",
        "$$\n",
        "A \\cdot C =\n",
        "\\begin{pmatrix}\n",
        "1 & 2 \\\\\n",
        "3 & 4\n",
        "\\end{pmatrix} \\cdot\n",
        "\\begin{pmatrix}\n",
        "9 & 10 \\\\\n",
        "11 & 12\n",
        "\\end{pmatrix} =\n",
        "\\begin{pmatrix}\n",
        "1 \\cdot 9 + 2 \\cdot 11 & 1 \\cdot 10 + 2 \\cdot 12 \\\\\n",
        "3 \\cdot 9 + 4 \\cdot 11 & 3 \\cdot 10 + 4 \\cdot 12\n",
        "\\end{pmatrix} =\n",
        "\\begin{pmatrix}\n",
        "31 & 34 \\\\\n",
        "63 & 70\n",
        "\\end{pmatrix}\n",
        "$$\n",
        "\n",
        "Finalmente, sumamos los resultados de $A \\cdot B$ y $A \\cdot C$:\n",
        "\n",
        "$$\n",
        "A \\cdot B + A \\cdot C\n",
        "$$"
      ],
      "metadata": {
        "id": "Nwg8noKPWbW6"
      }
    }
  ]
}